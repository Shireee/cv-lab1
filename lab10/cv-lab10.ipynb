{
 "cells": [
  {
   "cell_type": "code",
   "execution_count": 1,
   "metadata": {},
   "outputs": [],
   "source": [
    "import cv2\n",
    "\n",
    "# Video inpute \n",
    "input_video_path = 'test2.mp4'\n",
    "cap = cv2.VideoCapture(input_video_path) # (0) if web\n",
    "\n",
    "frame_width = int(cap.get(cv2.CAP_PROP_FRAME_WIDTH))\n",
    "frame_height = int(cap.get(cv2.CAP_PROP_FRAME_HEIGHT))\n",
    "frame_rate = int(cap.get(cv2.CAP_PROP_FPS))\n",
    "\n",
    "fourcc = cv2.VideoWriter_fourcc(*\"XVID\")\n",
    "output_video_path = \"output.mp4\"\n",
    "out = cv2.VideoWriter(output_video_path, fourcc, frame_rate, (frame_width, frame_height), isColor=True)\n",
    "\n",
    "prev_frame = None\n",
    "\n",
    "while cap.isOpened():\n",
    "    ret, frame = cap.read()\n",
    "    if not ret:\n",
    "        break\n",
    "\n",
    "    if prev_frame is not None:\n",
    "   \n",
    "        frame_blurred = cv2.GaussianBlur(frame, (5, 5), 0)\n",
    "        frame_diff = cv2.absdiff(cv2.cvtColor(frame_blurred, cv2.COLOR_BGR2GRAY), cv2.cvtColor(prev_frame, cv2.COLOR_BGR2GRAY))\n",
    "\n",
    "        # Morph\n",
    "        kernel = cv2.getStructuringElement(cv2.MORPH_CROSS, (60, 60))\n",
    "        frame_diff = cv2.morphologyEx(frame_diff, cv2.MORPH_CLOSE, kernel)\n",
    "        kernel = cv2.getStructuringElement(cv2.MORPH_CROSS, (10, 10))\n",
    "        frame_diff = cv2.morphologyEx(frame_diff, cv2.MORPH_ERODE, kernel)\n",
    "        kernel = cv2.getStructuringElement(cv2.MORPH_ELLIPSE, (15,15))\n",
    "        frame_diff = cv2.morphologyEx(frame_diff, cv2.MORPH_OPEN, kernel)\n",
    "\n",
    "        # Apply mask\n",
    "        result = cv2.bitwise_and(frame, frame, mask=frame_diff)\n",
    "        cv2.imshow('Processed Frames', result)\n",
    "        out.write(result)\n",
    "\n",
    "    prev_frame = frame\n",
    "\n",
    "    if cv2.waitKey(1) & 0xFF == ord('q'):\n",
    "        break\n",
    "\n",
    "\n",
    "# Relese res\n",
    "cap.release()\n",
    "out.release()\n",
    "cv2.destroyAllWindows()\n",
    "\n"
   ]
  }
 ],
 "metadata": {
  "kernelspec": {
   "display_name": "Python 3",
   "language": "python",
   "name": "python3"
  },
  "language_info": {
   "codemirror_mode": {
    "name": "ipython",
    "version": 3
   },
   "file_extension": ".py",
   "mimetype": "text/x-python",
   "name": "python",
   "nbconvert_exporter": "python",
   "pygments_lexer": "ipython3",
   "version": "3.11.5"
  }
 },
 "nbformat": 4,
 "nbformat_minor": 2
}
